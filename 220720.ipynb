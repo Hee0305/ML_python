{
 "cells": [
  {
   "cell_type": "code",
   "execution_count": null,
   "id": "7d8d9d37",
   "metadata": {},
   "outputs": [],
   "source": [
    "# Pythonic Code "
   ]
  },
  {
   "cell_type": "code",
   "execution_count": 4,
   "id": "35b37ccb",
   "metadata": {},
   "outputs": [
    {
     "name": "stdout",
     "output_type": "stream",
     "text": [
      "abcde\n"
     ]
    }
   ],
   "source": [
    "# 일반코드\n",
    "\n",
    "colors=['a','b','c','d','e']\n",
    "result=\"\"\n",
    "\n",
    "for s in colors:\n",
    "    result += s\n",
    "    \n",
    "print(result)"
   ]
  },
  {
   "cell_type": "code",
   "execution_count": 5,
   "id": "c5286c41",
   "metadata": {},
   "outputs": [
    {
     "data": {
      "text/plain": [
       "'redbluegreenyellow'"
      ]
     },
     "execution_count": 5,
     "metadata": {},
     "output_type": "execute_result"
    }
   ],
   "source": [
    "# Pythonic Code\n",
    "\n",
    "colors = ['red','blue','green','yellow']\n",
    "result = ''.join(colors)\n",
    "result"
   ]
  },
  {
   "cell_type": "code",
   "execution_count": 14,
   "id": "9dfa9f8d",
   "metadata": {
    "scrolled": true
   },
   "outputs": [
    {
     "name": "stdout",
     "output_type": "stream",
     "text": [
      "['zero', 'one', 'two', 'three']\n",
      "python, jquery, javascript\n",
      "python  jquery  javascript\n",
      "redbluegreenyellow\n",
      "red-blue-green-yellow\n",
      "red--blue--green--yellow\n"
     ]
    }
   ],
   "source": [
    "## Split 함수 \n",
    "# String Type 의 값을 나눠서 List 형태로 변환 \n",
    "\n",
    "items = 'zero one two three'.split()\n",
    "print(items)\n",
    "\n",
    "example = 'python, jquery, javascript'\n",
    "example.split(\",\")\n",
    "print(example)\n",
    "\n",
    "a, b, c = example.split(\",\")\n",
    "print(a,b,c)\n",
    "\n",
    "example = 'cs50.gachone.edu'\n",
    "subdomain,domain,tld = example.split(\".\")\n",
    "\n",
    "\n",
    "## Join 함수 \n",
    "# String List를 합쳐 하나의 String으로 반환할 때 사용\n",
    "\n",
    "colors = ['red', 'blue', 'green', 'yellow']\n",
    "result = ''.join(colors)\n",
    "print(result)\n",
    "\n",
    "result = '-'.join(colors)\n",
    "print(result)\n",
    "\n",
    "result = '--'.join(colors)\n",
    "print(result)\n"
   ]
  },
  {
   "cell_type": "code",
   "execution_count": 22,
   "id": "08b4b814",
   "metadata": {
    "scrolled": true
   },
   "outputs": [
    {
     "name": "stdout",
     "output_type": "stream",
     "text": [
      "[0, 1, 2, 3, 4, 5, 6, 7, 8, 9]\n",
      "[0, 1, 2, 3, 4, 5, 6, 7, 8, 9]\n",
      "[0, 2, 4, 6, 8]\n",
      "['HW', 'Ho', 'Hr', 'Hl', 'Hd', 'eW', 'eo', 'er', 'el', 'ed', 'lW', 'lo', 'lr', 'll', 'ld', 'lW', 'lo', 'lr', 'll', 'ld', 'oW', 'oo', 'or', 'ol', 'od']\n",
      "[['HW', 'eW', 'lW', 'lW', 'oW'], ['Ho', 'eo', 'lo', 'lo', 'oo'], ['Hr', 'er', 'lr', 'lr', 'or'], ['Hl', 'el', 'll', 'll', 'ol'], ['Hd', 'ed', 'ld', 'ld', 'od']]\n",
      "['AD', 'AE', 'BD', 'BE', 'BA', 'CD', 'CE', 'CA']\n"
     ]
    }
   ],
   "source": [
    "## List comprehensions\n",
    "# 기존 List를 사용하여 간단히 다른 List를 만드는 기법 \n",
    "# for + append 보다 속도가 빠르다\n",
    "\n",
    "result = []\n",
    "\n",
    "# 1) 일반적인\n",
    "for i in range(10):\n",
    "    result.append(i)\n",
    "print(result)\n",
    "\n",
    "# 2) list comprehensions\n",
    "result = [i for i in range(10)]\n",
    "print(result)\n",
    "\n",
    "# 3) list comprehensions filter\n",
    "result = [i for i in range(10) if i%2==0]\n",
    "print(result)\n",
    "\n",
    "\n",
    "word_1 = \"Hello\"\n",
    "word_2 = \"World\"\n",
    "result = [i+j for i in word_1 for j in word_2]\n",
    "print(result)\n",
    "\n",
    "result = [[i+j for i in word_1] for j in word_2]\n",
    "print(result)\n",
    "\n",
    "case_1 = [\"A\",\"B\",\"C\"]\n",
    "case_2 = [\"D\",\"E\",\"A\"]\n",
    "result = [i+j for i in case_1 for j in case_2 if not (i==j)]\n",
    "print(result)"
   ]
  },
  {
   "cell_type": "code",
   "execution_count": 29,
   "id": "c9563696",
   "metadata": {},
   "outputs": [
    {
     "name": "stdout",
     "output_type": "stream",
     "text": [
      "['hb', 'hy', 'he', 'eb', 'ey', 'ee', 'lb', 'ly', 'le', 'lb', 'ly', 'le', 'ob', 'oy', 'oe']\n",
      "[['hb', 'eb', 'lb', 'lb', 'ob'], ['hy', 'ey', 'ly', 'ly', 'oy'], ['he', 'ee', 'le', 'le', 'oe']]\n"
     ]
    }
   ],
   "source": [
    "list1 = \"hello\"\n",
    "list2 = 'bye'\n",
    "\n",
    "# one dimention\n",
    "result = [i+j for i in list1 for j in list2]\n",
    "print(result)\n",
    "\n",
    "# two dimention \n",
    "result = [[i+j for i in list1] for j in list2]\n",
    "print(result)"
   ]
  },
  {
   "cell_type": "code",
   "execution_count": 37,
   "id": "2cd6e514",
   "metadata": {
    "scrolled": true
   },
   "outputs": [
    {
     "name": "stdout",
     "output_type": "stream",
     "text": [
      "0 tic\n",
      "1 tac\n",
      "2 toc\n",
      "{0: 'Inje', 1: 'University', 2: 'is', 3: 'an', 4: 'academic', 5: 'institute', 6: 'located', 7: 'in', 8: 'South', 9: 'Korea.'}\n",
      "a1 b1\n",
      "a2 b2\n",
      "a3 b3\n",
      "0 a1 b1\n",
      "1 a2 b2\n",
      "2 a3 b3\n"
     ]
    }
   ],
   "source": [
    "## Enumerate \n",
    "# List의 element를 추출할 때 번호를 붙여서 추출 \n",
    "\n",
    "for i, v in enumerate(['tic','tac','toc']):\n",
    "    print(i, v)\n",
    "    \n",
    "mylist = ['a','b','c','d']\n",
    "list(enumerate(mylist))\n",
    "\n",
    "ex = {i:j for i,j in enumerate('Inje University is an academic institute located in South Korea.'.split())}\n",
    "print(ex)\n",
    "\n",
    "## Zip \n",
    "# 두 개의 list의 값을 병렬적으로 추출함 \n",
    "\n",
    "alist = ['a1','a2','a3']\n",
    "blist = ['b1','b2','b3']\n",
    "\n",
    "for a,b in zip(alist,blist):\n",
    "    print(a,b)\n",
    "    \n",
    "# enumerate 와 zip 을 같이 사용 \n",
    "for i, (a,b) in enumerate(zip(alist, blist)):\n",
    "    print(i, a, b)"
   ]
  },
  {
   "cell_type": "code",
   "execution_count": 42,
   "id": "aeca57c2",
   "metadata": {
    "scrolled": true
   },
   "outputs": [
    {
     "name": "stdout",
     "output_type": "stream",
     "text": [
      "0 a\n",
      "1 b\n",
      "2 c\n",
      "\n",
      "\n",
      "a 1\n",
      "b 2\n",
      "c 3\n"
     ]
    }
   ],
   "source": [
    "# enumerate\n",
    "for i,v in enumerate(['a','b','c']):\n",
    "    print(i,v)\n",
    "print('\\n')\n",
    "    \n",
    "# zip \n",
    "alist = ['a','b','c']\n",
    "blist = ['1','2','3']\n",
    "\n",
    "for a,b in zip(alist,blist):\n",
    "    print(a,b)"
   ]
  },
  {
   "cell_type": "code",
   "execution_count": 3,
   "id": "43c9e75f",
   "metadata": {
    "scrolled": true
   },
   "outputs": [
    {
     "name": "stdout",
     "output_type": "stream",
     "text": [
      "5\n",
      "5\n",
      "1\n",
      "6\n"
     ]
    }
   ],
   "source": [
    "## lambda \n",
    "# 함수 이름 없이, 함수처럼 쓸 수 있는 익명함수 \n",
    "\n",
    "# 일반적\n",
    "def f(x,y):\n",
    "    return x+y\n",
    "print(f(1,4))\n",
    "\n",
    "# lambda \n",
    "f = lambda x, y: x+y\n",
    "print(f(1,4))\n",
    "\n",
    "f = lambda x, y: x**2\n",
    "print(f(1,4))\n",
    "\n",
    "print((lambda x: x+1)(5))"
   ]
  },
  {
   "cell_type": "code",
   "execution_count": 12,
   "id": "10590b78",
   "metadata": {},
   "outputs": [
    {
     "name": "stdout",
     "output_type": "stream",
     "text": [
      "[1, 4, 9, 16, 25]\n",
      "1\n",
      "4\n",
      "9\n",
      "16\n",
      "25\n",
      "\n",
      "\n",
      "15\n"
     ]
    },
    {
     "data": {
      "text/plain": [
       "120"
      ]
     },
     "execution_count": 12,
     "metadata": {},
     "output_type": "execute_result"
    }
   ],
   "source": [
    "## Map function \n",
    "# Sequence 자료형 각 element에 동일한 funtion 을 적용 \n",
    "# python 3 에는 list를 꼭 붙여줘야한다.\n",
    "\n",
    "ex = [1,2,3,4,5]\n",
    "f = lambda x:x**2\n",
    "print(list(map(f, ex)))\n",
    "\n",
    "for i in map(f, ex):\n",
    "    print(i)\n",
    "print('\\n')\n",
    "\n",
    "## Reduce function \n",
    "# Map function과 달리 list에 똑같은 함수를 적용해서 통합 \n",
    "from functools import reduce\n",
    "print(reduce(lambda x, y: x+y, [1,2,3,4,5]))\n",
    "\n",
    "# 5! 구하기 \n",
    "def factorial(n):\n",
    "    return reduce(lambda x, y: x*y, range(1, n+1))\n",
    "factorial(5)\n",
    "\n",
    "##"
   ]
  }
 ],
 "metadata": {
  "kernelspec": {
   "display_name": "Python 3 (ipykernel)",
   "language": "python",
   "name": "python3"
  },
  "language_info": {
   "codemirror_mode": {
    "name": "ipython",
    "version": 3
   },
   "file_extension": ".py",
   "mimetype": "text/x-python",
   "name": "python",
   "nbconvert_exporter": "python",
   "pygments_lexer": "ipython3",
   "version": "3.9.7"
  }
 },
 "nbformat": 4,
 "nbformat_minor": 5
}
