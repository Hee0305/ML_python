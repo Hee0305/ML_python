{
 "cells": [
  {
   "cell_type": "code",
   "execution_count": 5,
   "id": "872bf5ba",
   "metadata": {
    "scrolled": true
   },
   "outputs": [],
   "source": [
    "## Numpy == Numerical Python \n",
    "import numpy as np"
   ]
  },
  {
   "cell_type": "code",
   "execution_count": 6,
   "id": "efd6bafe",
   "metadata": {
    "scrolled": false
   },
   "outputs": [
    {
     "name": "stdout",
     "output_type": "stream",
     "text": [
      "[1. 2. 3. 4.]\n"
     ]
    },
    {
     "data": {
      "text/plain": [
       "numpy.ndarray"
      ]
     },
     "execution_count": 6,
     "metadata": {},
     "output_type": "execute_result"
    }
   ],
   "source": [
    "# array 생성\n",
    "test_array = np.array([\"1\",\"2\",3,4],float) # String 과 int 타입이 들어가 있지만 float을 선언함으로써 float으로 통일\n",
    "\n",
    "print(test_array)\n",
    "type(test_array)"
   ]
  },
  {
   "cell_type": "code",
   "execution_count": 7,
   "id": "3ee57ddd",
   "metadata": {},
   "outputs": [
    {
     "name": "stdout",
     "output_type": "stream",
     "text": [
      "float64\n"
     ]
    }
   ],
   "source": [
    "# dtype\n",
    "\n",
    "print(test_array.dtype)"
   ]
  },
  {
   "cell_type": "code",
   "execution_count": 13,
   "id": "5a6a3ce1",
   "metadata": {
    "scrolled": true
   },
   "outputs": [
    {
     "name": "stdout",
     "output_type": "stream",
     "text": [
      "(4,)\n"
     ]
    }
   ],
   "source": [
    "# shape\n",
    "test_array = np.array([\"1\",\"2\",3,4],float)\n",
    "\n",
    "print(test_array.shape)"
   ]
  },
  {
   "cell_type": "code",
   "execution_count": 25,
   "id": "2115d9d0",
   "metadata": {
    "scrolled": true
   },
   "outputs": [
    {
     "name": "stdout",
     "output_type": "stream",
     "text": [
      "origin:(2, 4)\n",
      "[[[1 2]\n",
      "  [3 4]]\n",
      "\n",
      " [[1 2]\n",
      "  [4 8]]]\n",
      "\n",
      "\n",
      "[1 2 3 4 1 2 4 8]\n",
      "\n",
      "\n",
      "[[1 2 3 4]\n",
      " [1 2 4 8]]\n"
     ]
    }
   ],
   "source": [
    "# reshape\n",
    "test_matrix = [[1,2,3,4],[1,2,4,8]]\n",
    "print(f'origin:{np.array(test_matrix).shape}')\n",
    "\n",
    "print(np.array(test_matrix).reshape(2,2,2))\n",
    "print('\\n')\n",
    "print(np.array(test_matrix).reshape(8,))\n",
    "print('\\n')\n",
    "print(np.array(test_matrix).reshape(2,4))"
   ]
  },
  {
   "cell_type": "code",
   "execution_count": 30,
   "id": "49f6ae06",
   "metadata": {
    "scrolled": true
   },
   "outputs": [
    {
     "name": "stdout",
     "output_type": "stream",
     "text": [
      "[[1 2 3]\n",
      " [4 5 6]]\n",
      "1\n",
      "1\n",
      "[[12  2  3]\n",
      " [ 4  5  6]]\n",
      "[[12 15  3]\n",
      " [ 4  5  6]]\n"
     ]
    }
   ],
   "source": [
    "# indexing\n",
    "a = np.array([[1,2,3],[4.5,5,6]], int)\n",
    "print(a)\n",
    "print(a[0,0])\n",
    "print(a[0][0])\n",
    "\n",
    "a[0,0] = 12\n",
    "print(a)\n",
    "\n",
    "a[0][1] = 15\n",
    "print(a)"
   ]
  },
  {
   "cell_type": "code",
   "execution_count": 34,
   "id": "c70dd6d7",
   "metadata": {
    "scrolled": true
   },
   "outputs": [
    {
     "name": "stdout",
     "output_type": "stream",
     "text": [
      "[[ 1  2  3  4  5]\n",
      " [ 6  7  8  9 10]]\n",
      "[[ 3  4  5]\n",
      " [ 8  9 10]]\n",
      "[[1 2 3]\n",
      " [6 7 8]]\n"
     ]
    }
   ],
   "source": [
    "# Slicing\n",
    "\n",
    "a = np.array([[1,2,3,4,5],[6,7,8,9,10]], int)\n",
    "print(a)\n",
    "\n",
    "print(a[:,2:]) # 전체 row의 2열 이상\n",
    "print(a[:,0:3]) # 전체 row의 0~3 columns"
   ]
  },
  {
   "cell_type": "code",
   "execution_count": 36,
   "id": "b2713235",
   "metadata": {
    "scrolled": true
   },
   "outputs": [
    {
     "data": {
      "text/plain": [
       "array([[ 0,  1,  2,  3,  4],\n",
       "       [ 5,  6,  7,  8,  9],\n",
       "       [10, 11, 12, 13, 14],\n",
       "       [15, 16, 17, 18, 19],\n",
       "       [20, 21, 22, 23, 24],\n",
       "       [25, 26, 27, 28, 29]])"
      ]
     },
     "execution_count": 36,
     "metadata": {},
     "output_type": "execute_result"
    }
   ],
   "source": [
    "# arange\n",
    "\n",
    "np.arange(30) # 0~29 까지 배열 추출 \n",
    "\n",
    "np.arange(30).reshape(-1,5) # reshape 사용"
   ]
  },
  {
   "cell_type": "code",
   "execution_count": 42,
   "id": "fc35a5f7",
   "metadata": {
    "scrolled": true
   },
   "outputs": [
    {
     "name": "stdout",
     "output_type": "stream",
     "text": [
      "[0 0 0 0 0 0 0 0 0 0]\n",
      "[1 1 1 1 1 1 1 1 1 1]\n",
      "[1 1 1 1 1 1 1 1 1 1]\n"
     ]
    }
   ],
   "source": [
    "# ones, zeros and empty\n",
    "\n",
    "print(np.zeros(shape=(10,), dtype=np.int8))\n",
    "print(np.ones(shape=(10,), dtype=np.int8))\n",
    "print(np.empty(shape=(10,), dtype=np.int8))"
   ]
  },
  {
   "cell_type": "code",
   "execution_count": 47,
   "id": "6a6851df",
   "metadata": {
    "scrolled": true
   },
   "outputs": [
    {
     "name": "stdout",
     "output_type": "stream",
     "text": [
      "[[ 0  1  2  3  4  5]\n",
      " [ 6  7  8  9 10 11]\n",
      " [12 13 14 15 16 17]\n",
      " [18 19 20 21 22 23]\n",
      " [24 25 26 27 28 29]]\n"
     ]
    },
    {
     "data": {
      "text/plain": [
       "array([[1, 1, 1, 1, 1, 1],\n",
       "       [1, 1, 1, 1, 1, 1],\n",
       "       [1, 1, 1, 1, 1, 1],\n",
       "       [1, 1, 1, 1, 1, 1],\n",
       "       [1, 1, 1, 1, 1, 1]])"
      ]
     },
     "execution_count": 47,
     "metadata": {},
     "output_type": "execute_result"
    }
   ],
   "source": [
    "# something_list\n",
    "test_matrix = np.arange(30).reshape(5,6)\n",
    "print(test_matrix)\n",
    "np.ones_like(test_matrix)"
   ]
  },
  {
   "cell_type": "code",
   "execution_count": 51,
   "id": "0ff3dc4c",
   "metadata": {
    "scrolled": false
   },
   "outputs": [
    {
     "name": "stdout",
     "output_type": "stream",
     "text": [
      "[[1 0 0]\n",
      " [0 1 0]\n",
      " [0 0 1]]\n",
      "\n",
      "\n",
      "[[1. 0. 0. 0. 0.]\n",
      " [0. 1. 0. 0. 0.]\n",
      " [0. 0. 1. 0. 0.]\n",
      " [0. 0. 0. 1. 0.]\n",
      " [0. 0. 0. 0. 1.]]\n"
     ]
    }
   ],
   "source": [
    "# identity : 단위 행렬(i 행렬)을 생성함 \n",
    "\n",
    "print(np.identity(n=3, dtype=np.int8))\n",
    "print('\\n')\n",
    "print(np.identity(5))"
   ]
  },
  {
   "cell_type": "code",
   "execution_count": 60,
   "id": "9f528557",
   "metadata": {
    "scrolled": false
   },
   "outputs": [
    {
     "name": "stdout",
     "output_type": "stream",
     "text": [
      "[[1 0 0 0 0]\n",
      " [0 1 0 0 0]\n",
      " [0 0 1 0 0]]\n",
      "\n",
      "\n",
      "[[1. 0. 0.]\n",
      " [0. 1. 0.]\n",
      " [0. 0. 1.]]\n",
      "\n",
      "\n",
      "[[0. 0. 1. 0. 0.]\n",
      " [0. 0. 0. 1. 0.]\n",
      " [0. 0. 0. 0. 1.]]\n"
     ]
    }
   ],
   "source": [
    "# eye : 대각선이 1인 행렬, k값의 시작 index의 변경이 가능\n",
    "print(np.eye(N=3, M=5, dtype=np.int8))\n",
    "print('\\n')\n",
    "print(np.eye(3))\n",
    "print('\\n')\n",
    "print(np.eye(3,5,k=2))# k : start index"
   ]
  },
  {
   "cell_type": "code",
   "execution_count": 64,
   "id": "eaa1c256",
   "metadata": {},
   "outputs": [
    {
     "name": "stdout",
     "output_type": "stream",
     "text": [
      "[[0 1 2]\n",
      " [3 4 5]\n",
      " [6 7 8]]\n",
      "[0 4 8]\n",
      "[1 5]\n"
     ]
    }
   ],
   "source": [
    "# diag : 대각 행렬의 값을 추출함 \n",
    "matrix = np.arange(9).reshape(3,3)\n",
    "print(matrix)\n",
    "print(np.diag(matrix))\n",
    "print(np.diag(matrix, k=1)) # k : start index"
   ]
  },
  {
   "cell_type": "code",
   "execution_count": 66,
   "id": "fb566df8",
   "metadata": {
    "scrolled": true
   },
   "outputs": [
    {
     "name": "stdout",
     "output_type": "stream",
     "text": [
      "[[0.68544567 0.21626028 0.98826108 0.25044664 0.65487989]\n",
      " [0.32321514 0.21706292 0.54038442 0.53911161 0.34826248]]\n",
      "[[-0.22283061  0.02322825 -0.70398275 -0.55852037 -0.01682508]\n",
      " [ 1.20484381  0.34678623 -1.6381438  -0.85101087  1.53891355]]\n"
     ]
    }
   ],
   "source": [
    "# random sampling : 데이터 분포에 따른 sampling으로 array를 생성 \n",
    "print(np.random.uniform(0,1,10).reshape(2,5)) # uniform : 균등분포 \n",
    "print(np.random.normal(0,1,10).reshape(2,5)) # normal : 정규분포 "
   ]
  },
  {
   "cell_type": "code",
   "execution_count": 77,
   "id": "61b4ee40",
   "metadata": {
    "scrolled": true
   },
   "outputs": [
    {
     "name": "stdout",
     "output_type": "stream",
     "text": [
      "[[ 1  2  3  4]\n",
      " [ 5  6  7  8]\n",
      " [ 9 10 11 12]]\n",
      "[15 18 21 24]\n",
      "[10 26 42]\n"
     ]
    }
   ],
   "source": [
    "# axis : 모든 operation function을 실행할 때, 기준이 되는 dimension 축 \n",
    "\n",
    "test_array = np.arange(1,13).reshape(3,4)\n",
    "print(test_array)\n",
    "print(test_array.sum(axis=0))\n",
    "print(test_array.sum(axis=1))"
   ]
  },
  {
   "cell_type": "code",
   "execution_count": 79,
   "id": "ed99b580",
   "metadata": {},
   "outputs": [
    {
     "name": "stdout",
     "output_type": "stream",
     "text": [
      "[[1 2 3]\n",
      " [2 3 4]]\n",
      "[1 2 3 2 3 4]\n"
     ]
    }
   ],
   "source": [
    "# concatenate : Numpy array를 합치는 함수 \n",
    "a = np.array([1,2,3])\n",
    "b = np.array([2,3,4])\n",
    "print(np.vstack((a,b)))\n",
    "print(np.hstack((a,b)))"
   ]
  },
  {
   "cell_type": "code",
   "execution_count": 86,
   "id": "81630f7b",
   "metadata": {
    "scrolled": true
   },
   "outputs": [
    {
     "name": "stdout",
     "output_type": "stream",
     "text": [
      "[[ 2.  4.  6.]\n",
      " [ 8. 10. 12.]]\n",
      "[[0. 0. 0.]\n",
      " [0. 0. 0.]]\n",
      "[[ 1.  4.  9.]\n",
      " [16. 25. 36.]]\n"
     ]
    }
   ],
   "source": [
    "# operations b/t arrays : Numpy는 array간의 기본적인 사칙 연산을 지원함\n",
    "test_a = np.array([[1,2,3],[4,5,6]], float)\n",
    "print(test_a + test_a)\n",
    "print(test_a - test_a)\n",
    "print(test_a * test_a)"
   ]
  },
  {
   "cell_type": "code",
   "execution_count": 89,
   "id": "86729396",
   "metadata": {
    "scrolled": true
   },
   "outputs": [
    {
     "name": "stdout",
     "output_type": "stream",
     "text": [
      "[[1 2 3]\n",
      " [4 5 6]]\n",
      "[[ 7  8]\n",
      " [ 9 10]\n",
      " [11 12]]\n"
     ]
    },
    {
     "data": {
      "text/plain": [
       "array([[ 58,  64],\n",
       "       [139, 154]])"
      ]
     },
     "execution_count": 89,
     "metadata": {},
     "output_type": "execute_result"
    }
   ],
   "source": [
    "# Dot product \n",
    "test_a = np.arange(1,7).reshape(2,3)\n",
    "test_b = np.arange(7,13).reshape(3,2)\n",
    "print(test_a)\n",
    "print(test_b)\n",
    "test_a.dot(test_b)"
   ]
  },
  {
   "cell_type": "code",
   "execution_count": 93,
   "id": "a9099363",
   "metadata": {
    "scrolled": true
   },
   "outputs": [
    {
     "name": "stdout",
     "output_type": "stream",
     "text": [
      "origin:[[1 2 3]\n",
      " [4 5 6]]\n",
      "transpose:[[1 4]\n",
      " [2 5]\n",
      " [3 6]]\n"
     ]
    }
   ],
   "source": [
    "# transpose\n",
    "test_a = np.arange(1,7).reshape(2,3)\n",
    "print(f'origin:{test_a}')\n",
    "print(f'transpose:{test_a.transpose()}')"
   ]
  },
  {
   "cell_type": "code",
   "execution_count": 96,
   "id": "b462d887",
   "metadata": {
    "scrolled": true
   },
   "outputs": [
    {
     "name": "stdout",
     "output_type": "stream",
     "text": [
      "[[3. 4. 5.]\n",
      " [6. 7. 8.]]\n",
      "[[-1.  0.  1.]\n",
      " [ 2.  3.  4.]]\n",
      "[[ 2.  4.  6.]\n",
      " [ 8. 10. 12.]]\n",
      "[[0.5 1.  1.5]\n",
      " [2.  2.5 3. ]]\n",
      "[[0. 1. 1.]\n",
      " [2. 2. 3.]]\n",
      "[[ 1.  4.  9.]\n",
      " [16. 25. 36.]]\n"
     ]
    }
   ],
   "source": [
    "# broadcasting : Shape이 다른 배열 간 연산을 지원하는 기능 \n",
    "\n",
    "test_matrix = np.array([[1,2,3],[4,5,6]], float)\n",
    "scalar = 2\n",
    "\n",
    "print(test_matrix + scalar)\n",
    "print(test_matrix - scalar)\n",
    "print(test_matrix * scalar)\n",
    "print(test_matrix / scalar)\n",
    "print(test_matrix // scalar) # 몫\n",
    "print(test_matrix ** scalar) # 제곱 "
   ]
  },
  {
   "cell_type": "code",
   "execution_count": 108,
   "id": "4350f9ee",
   "metadata": {
    "scrolled": true
   },
   "outputs": [
    {
     "name": "stdout",
     "output_type": "stream",
     "text": [
      "[0 1 2 3 4 5 6 7 8 9]\n",
      "[False False False False False False False False False False]\n",
      "[ True  True  True  True  True  True  True  True  True  True]\n",
      "False\n",
      "True\n"
     ]
    }
   ],
   "source": [
    "## Comparisons\n",
    "# All&Any\n",
    "a = np.arange(10)\n",
    "print(a)\n",
    "print(a<0)\n",
    "print(a>=0)\n",
    "\n",
    "print(np.any(a<0))\n",
    "print(np.all(a>=0))"
   ]
  },
  {
   "cell_type": "code",
   "execution_count": 113,
   "id": "8a3a0bfd",
   "metadata": {
    "scrolled": true
   },
   "outputs": [
    {
     "name": "stdout",
     "output_type": "stream",
     "text": [
      "[2 3 3 3 3 3 3 3 3 3]\n",
      "(array([4, 5, 6, 7, 8, 9], dtype=int64),)\n"
     ]
    },
    {
     "data": {
      "text/plain": [
       "array([False,  True, False])"
      ]
     },
     "execution_count": 113,
     "metadata": {},
     "output_type": "execute_result"
    }
   ],
   "source": [
    "# np.where\n",
    "a = np.arange(10)\n",
    "print(np.where(a>0,3,2)) # true = 3, False = 2 를 반환 \n",
    "print(np.where(a>3)) # index 값 반환 \n",
    "\n",
    "a = np.array([1, np.NaN, np.Inf], float)\n",
    "np.isnan(a)"
   ]
  },
  {
   "cell_type": "code",
   "execution_count": 117,
   "id": "724f856e",
   "metadata": {
    "scrolled": true
   },
   "outputs": [
    {
     "name": "stdout",
     "output_type": "stream",
     "text": [
      "5 0\n",
      "[3 1 1] [0 0 2 2]\n"
     ]
    }
   ],
   "source": [
    "# argmax&argmin : 가장 큰 값 , 가장 작은 값의 index를 반환 \n",
    "a = np.array([1,2,4,5,8,78,23,2])\n",
    "print(np.argmax(a), np.argmin(a))\n",
    "\n",
    "a = np.array([[1,2,4,7],[9,88,6,45],[9,76,3,4]])\n",
    "print(np.argmax(a, axis=1), np.argmin(a, axis=0))"
   ]
  },
  {
   "cell_type": "raw",
   "id": "7eec4e04",
   "metadata": {},
   "source": [
    "Numpy 에 for 문을 쓰지 마라!!"
   ]
  },
  {
   "cell_type": "code",
   "execution_count": 122,
   "id": "f9ea8354",
   "metadata": {},
   "outputs": [
    {
     "name": "stdout",
     "output_type": "stream",
     "text": [
      "[4. 8. 9. 7.]\n"
     ]
    },
    {
     "data": {
      "text/plain": [
       "array([1., 0., 2.])"
      ]
     },
     "execution_count": 122,
     "metadata": {},
     "output_type": "execute_result"
    }
   ],
   "source": [
    "# Boolean index\n",
    "test_array = np.array([1,4,0,2,3,8,9,7],float)\n",
    "test_array > 3\n",
    "\n",
    "print(test_array[test_array > 3]) # 조건이 True 인 index의 element만 추출 \n",
    "\n",
    "condition = test_array < 3 # 조건 \n",
    "test_array[condition] # 3보다 작은 element 만 "
   ]
  },
  {
   "cell_type": "code",
   "execution_count": 126,
   "id": "1f40a080",
   "metadata": {},
   "outputs": [
    {
     "name": "stdout",
     "output_type": "stream",
     "text": [
      "[2. 2. 4. 8. 6. 4.]\n",
      "[2. 2. 4. 8. 6. 4.]\n"
     ]
    }
   ],
   "source": [
    "# fancy index : numpy 는 array를 index value로 사용해서 값을 추출하는 방법 \n",
    "\n",
    "a = np.array([2,4,6,8], float)\n",
    "b = np.array([0,0,1,3,2,1], int) # 반드시 integer로 선언 \n",
    "print(a[b]) # bracket index, b 배열의 값을 index로 하여 a의 값들을 추출함 \n",
    "\n",
    "a.take(b) # take 함수 : bracket index와 같은 효과 \n",
    "print(a.take(b))\n",
    "\n",
    "# 명확하게 사용하는 take 함수를 추천 "
   ]
  }
 ],
 "metadata": {
  "kernelspec": {
   "display_name": "Python 3 (ipykernel)",
   "language": "python",
   "name": "python3"
  },
  "language_info": {
   "codemirror_mode": {
    "name": "ipython",
    "version": 3
   },
   "file_extension": ".py",
   "mimetype": "text/x-python",
   "name": "python",
   "nbconvert_exporter": "python",
   "pygments_lexer": "ipython3",
   "version": "3.9.7"
  }
 },
 "nbformat": 4,
 "nbformat_minor": 5
}
