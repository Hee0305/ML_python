{
 "cells": [
  {
   "cell_type": "code",
   "execution_count": 14,
   "id": "57811622",
   "metadata": {},
   "outputs": [
    {
     "name": "stdout",
     "output_type": "stream",
     "text": [
      "5\n",
      "5\n",
      "[2, 4, 6, 8, 10]\n",
      "15\n"
     ]
    },
    {
     "data": {
      "text/plain": [
       "120"
      ]
     },
     "execution_count": 14,
     "metadata": {},
     "output_type": "execute_result"
    }
   ],
   "source": [
    "## original\n",
    "def f(x,y):\n",
    "    return x+y\n",
    "print(f(1,4))\n",
    "\n",
    "## lambda \n",
    "f = lambda x, y: x+y\n",
    "print(f(1,4))\n",
    "\n",
    "## Sequence \n",
    "ex = [1,2,3,4,5]\n",
    "f = lambda x, y: x+y\n",
    "print(list(map(f, ex,ex)))\n",
    "\n",
    "list(map(lambda x:x**2 if x%2 == 0 else x, ex))\n",
    "\n",
    "\n",
    "## Reduce function \n",
    "# Map function 과 달리 list에 똑같은 함수를 적용해서 통합 \n",
    "from functools import reduce\n",
    "print(reduce(lambda x,y: x+y, [1,2,3,4,5]))\n",
    "\n",
    "def factorial(n):\n",
    "    return reduce(lambda x,y:x*y, range(1,n+1))\n",
    "\n",
    "factorial(5)"
   ]
  },
  {
   "cell_type": "code",
   "execution_count": 27,
   "id": "43702c89",
   "metadata": {
    "scrolled": true
   },
   "outputs": [
    {
     "name": "stdout",
     "output_type": "stream",
     "text": [
      "1 (2, 3, 4, 5, 6)\n",
      "<class 'tuple'>\n",
      "1 {'b': 2, 'c': 3, 'd': 4, 'e': 5, 'f': 6}\n",
      "<class 'dict'>\n",
      "1 (2, 3, 4, 5, 6)\n",
      "<class 'tuple'>\n",
      "[1, 2] [3, 4] [5, 6]\n",
      "[1, 2] [3, 4] [5, 6]\n",
      "([1, 2], [3, 4], [5, 6])\n",
      "(1, 3, 5)\n",
      "(2, 4, 6)\n"
     ]
    }
   ],
   "source": [
    "## Asterisk \n",
    "# 흔히 알고 있는 * 를 의미함 \n",
    "# 단순 곱셈, 제곱연산, 가변 인자 활용 등 다양하게 사용됨\n",
    "\n",
    "# \"*args\" example // tuple type\n",
    "def asterisk_test(a, *args):\n",
    "    print(a, args)\n",
    "    print(type(args))\n",
    "    \n",
    "asterisk_test(1,2,3,4,5,6)\n",
    "\n",
    "# \"**kargs\" example // dict type\n",
    "def asterisk_test(a, **kargs):\n",
    "    print(a, kargs)\n",
    "    print(type(kargs))\n",
    "    \n",
    "asterisk_test(1, b=2, c=3, d=4, e=5, f=6)\n",
    "\n",
    "## Asteris - unpacking a container\n",
    "# tuple, dict 등 자료형에 들어가 있는 값을 unpacking\n",
    "# 함수의 입력값, zip 등에 유용하게 사용가능 \n",
    "def asterisk_test(a, *args):\n",
    "    print(a, args[0]) # (2,3,4,5,6) 은 1개의 값, 따라서 [0] 을 붙여줘야 함 \n",
    "    print(type(args))\n",
    "    \n",
    "asterisk_test(1,(2,3,4,5,6))\n",
    "\n",
    "a,b,c = ([1,2],[3,4],[5,6])\n",
    "print(a,b,c)\n",
    "\n",
    "data = ([1,2],[3,4],[5,6])\n",
    "print(*data)\n",
    "print(data)\n",
    "\n",
    "for data in zip(*([1,2],[3,4],[5,6])):\n",
    "    print(data)\n"
   ]
  },
  {
   "cell_type": "markdown",
   "id": "f4346edd",
   "metadata": {},
   "source": [
    "###### Collections \n",
    "# List, Tuple, Dict에 대한 Python Built-in 확장 자료 구조(모듈) \n",
    "# 편의성, 실행 효율 등을 사용자에게 제공함 \n",
    "# 아래의 모듈이 존재함\n",
    "from collections import deque # Stack 과 Queue 를 지원하는 모듈 \n",
    "from collections import Counter # Sequence type 의 data element 들의 갯수를 dict 형태로 반환 \n",
    "from collections import OrderedDict # Dict와 달리, 데이터를 입력한 순서대로 dict를 반환\n",
    "from collections import defaultdict\n",
    "from collections import namedtuple"
   ]
  },
  {
   "cell_type": "code",
   "execution_count": 57,
   "id": "17c1ec61",
   "metadata": {},
   "outputs": [
    {
     "name": "stdout",
     "output_type": "stream",
     "text": [
      "deque([0, 1, 2, 3, 4])\n",
      "deque([10, 0, 1, 2, 3, 4])\n",
      "deque([3, 4, 10, 0, 1, 2])\n",
      "deque([1, 2, 3, 4, 10, 0])\n",
      "\n",
      "\n",
      "deque([1, 2, 3, 4, 10, 0])\n",
      "deque([0, 10, 4, 3, 2, 1])\n",
      "deque([1, 2, 3, 4, 10, 0, 5, 6, 7])\n",
      "deque([7, 6, 5, 1, 2, 3, 4, 10, 0, 5, 6, 7])\n"
     ]
    }
   ],
   "source": [
    "from collections import deque \n",
    "\n",
    "deque_list = deque() \n",
    "for i in range(5):\n",
    "    deque_list.append(i)\n",
    "print(deque_list) \n",
    "\n",
    "deque_list.appendleft(10) # 10 을 리스트 좌측에 추가 \n",
    "print(deque_list)\n",
    "\n",
    "deque_list.rotate(2) # 끝자리 2개를 앞으로 \n",
    "print(deque_list)\n",
    "deque_list.rotate(2) # 끝자리 2개를 앞으로 \n",
    "print(deque_list)\n",
    "print('\\n')\n",
    "\n",
    "print(deque_list)\n",
    "print(deque(reversed(deque_list))) # 리스트 역 정렬\n",
    "\n",
    "deque_list.extend([5,6,7]) # 5,6,7 추가 \n",
    "print(deque_list)\n",
    "\n",
    "deque_list.extendleft([5,6,7]) # 5,6,7 을 리스트 좌측에 추가 \n",
    "print(deque_list)"
   ]
  },
  {
   "cell_type": "code",
   "execution_count": 46,
   "id": "9d2fc7c8",
   "metadata": {
    "scrolled": true
   },
   "outputs": [
    {
     "name": "stdout",
     "output_type": "stream",
     "text": [
      "x 100\n",
      "y 200\n",
      "z 300\n",
      "l 500\n",
      "\n",
      "\n",
      "x 100\n",
      "y 200\n",
      "z 300\n",
      "l 500\n",
      "\n",
      "\n",
      "l 500\n",
      "x 100\n",
      "y 200\n",
      "z 300\n",
      "\n",
      "\n",
      "l 500\n",
      "z 300\n",
      "y 200\n",
      "x 100\n"
     ]
    }
   ],
   "source": [
    "from collections import OrderedDict\n",
    "d ={}\n",
    "d['x'] = 100\n",
    "d['y'] = 200\n",
    "d['z'] = 300\n",
    "d['l'] = 500\n",
    "\n",
    "for k, v in d.items():\n",
    "    print(k,v)\n",
    "print('\\n')\n",
    "\n",
    "d = OrderedDict()\n",
    "d['x'] = 100\n",
    "d['y'] = 200\n",
    "d['z'] = 300\n",
    "d['l'] = 500\n",
    "\n",
    "for k, v in d.items():\n",
    "    print(k,v)\n",
    "print('\\n')\n",
    "    \n",
    "for k,v in OrderedDict(sorted(d.items(), key=lambda t:t[0])).items():\n",
    "    print(k, v)\n",
    "print('\\n')  \n",
    "for k,v in OrderedDict(sorted(d.items(), reverse=True, key=lambda t:t[1])).items():\n",
    "    print(k, v)"
   ]
  },
  {
   "cell_type": "code",
   "execution_count": 101,
   "id": "2b4bc419",
   "metadata": {},
   "outputs": [
    {
     "name": "stdout",
     "output_type": "stream",
     "text": [
      "[(2, 2, 3), (2, 3, 5)]\n",
      "[7, 10]\n",
      "[10, 14, 18]\n",
      "[[8, 14], [10, 12]]\n",
      "[[12, 24], [16, 20]]\n",
      "[[1, 4], [2, 5], [3, 6]]\n",
      "[[5, 8], [5, 6]]\n"
     ]
    }
   ],
   "source": [
    "# Vector representation of python \n",
    "# Vector 를 파이썬으로 표시하는 다양한 방법 존재 \n",
    "\n",
    "# zip 을 이용하여 vector 계산하기 \n",
    "u=[2,2]\n",
    "v=[2,3]\n",
    "z=[3,5]\n",
    "result = [sum(t) for t in zip(u,v,z)]\n",
    "print(list(zip(u,v,z)))\n",
    "print(result)\n",
    "\n",
    "# Scalar-Vector product\n",
    "u=[1,2,3]\n",
    "v=[4,5,6]\n",
    "alpha=2\n",
    "result=[alpha*sum(t) for t in zip(u,v)]\n",
    "print(result)\n",
    "\n",
    "# Matrix addition \n",
    "matrix_a = [[3,6], [4,5]]\n",
    "matrix_b = [[5,8], [6,7]]\n",
    "result = [[sum(row) for row in zip(*t)] for t in zip(matrix_a, matrix_b)]\n",
    "print(result)\n",
    "\n",
    "# Scalar-Matrix Product \n",
    "matrix_a = [[3,6],[4,5]]\n",
    "alpha=4\n",
    "result=[[alpha*element for element in t]for t in matrix_a]\n",
    "print(result)\n",
    "\n",
    "# Matrix Transpose \n",
    "matrix_a = [[1,2,3],[4,5,6]]\n",
    "result=[[element for element in t]for t in zip(*matrix_a)]\n",
    "print(result)\n",
    "\n",
    "# Matrix Product\n",
    "matrix_a = [[1,1,2],[2,1,1]]\n",
    "matrix_b = [[1,1],[2,1],[1,3]]\n",
    "result = [[sum(a*b for a,b in zip(row_a, column_b))\n",
    "          for column_b in zip(*matrix_b)]for row_a in matrix_a]\n",
    "print(result)"
   ]
  },
  {
   "cell_type": "code",
   "execution_count": 99,
   "id": "b4108d4d",
   "metadata": {
    "scrolled": true
   },
   "outputs": [
    {
     "name": "stdout",
     "output_type": "stream",
     "text": [
      "list comprehension : [[12, 24], [16, 20]]\n",
      "normal : 12\n",
      "normal : 24\n",
      "normal : 16\n",
      "normal : 20\n"
     ]
    }
   ],
   "source": [
    "## list comprehension 의 차이점 \n",
    "matrix_a = [[3,6],[4,5]]\n",
    "alpha=4\n",
    "result=[[alpha*element for element in t]for t in matrix_a]\n",
    "print('list comprehension :',result)\n",
    "\n",
    "for t in matrix_a:\n",
    "    for element in t:\n",
    "        result = alpha*element\n",
    "        print(result)"
   ]
  },
  {
   "cell_type": "code",
   "execution_count": null,
   "id": "78489b53",
   "metadata": {},
   "outputs": [],
   "source": []
  }
 ],
 "metadata": {
  "kernelspec": {
   "display_name": "Python 3 (ipykernel)",
   "language": "python",
   "name": "python3"
  },
  "language_info": {
   "codemirror_mode": {
    "name": "ipython",
    "version": 3
   },
   "file_extension": ".py",
   "mimetype": "text/x-python",
   "name": "python",
   "nbconvert_exporter": "python",
   "pygments_lexer": "ipython3",
   "version": "3.9.12"
  }
 },
 "nbformat": 4,
 "nbformat_minor": 5
}
